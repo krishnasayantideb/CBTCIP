{
 "cells": [
  {
   "cell_type": "markdown",
   "id": "76008cc0",
   "metadata": {},
   "source": [
    "#  Spam Email Detection uning Machine Learning"
   ]
  },
  {
   "cell_type": "raw",
   "id": "553c835e",
   "metadata": {},
   "source": [
    "Author: Krishna Sayanti Deb"
   ]
  },
  {
   "cell_type": "markdown",
   "id": "7b1884d1",
   "metadata": {},
   "source": [
    "#### Importing Libraries"
   ]
  },
  {
   "cell_type": "code",
   "execution_count": 1,
   "id": "b5190ffa",
   "metadata": {},
   "outputs": [],
   "source": [
    "import numpy as np \n",
    "import pandas as pd\n",
    "import matplotlib.pyplot as plt\n",
    "import seaborn as sns\n",
    "from sklearn.model_selection import train_test_split\n",
    "from sklearn.linear_model import LogisticRegression\n",
    "from sklearn.feature_extraction.text import CountVectorizer\n",
    "from sklearn.svm import SVC\n",
    "from sklearn.ensemble import RandomForestClassifier\n",
    "from sklearn.tree import DecisionTreeClassifier\n",
    "from sklearn.naive_bayes import MultinomialNB\n",
    "from sklearn.metrics import classification_report, confusion_matrix, accuracy_score"
   ]
  },
  {
   "cell_type": "markdown",
   "id": "e1075f84",
   "metadata": {},
   "source": [
    "#### Importing Dataset"
   ]
  },
  {
   "cell_type": "code",
   "execution_count": 2,
   "id": "5e9c6a4a",
   "metadata": {},
   "outputs": [],
   "source": [
    "#loading Data\n",
    "data = pd.read_csv(r'C:\\Users\\LENOVO\\Desktop\\Internship\\CipherByte Technoligies\\Task-4\\Spam Email Detection - spam.csv')"
   ]
  },
  {
   "cell_type": "code",
   "execution_count": 3,
   "id": "c50c2dfa",
   "metadata": {},
   "outputs": [
    {
     "data": {
      "text/html": [
       "<div>\n",
       "<style scoped>\n",
       "    .dataframe tbody tr th:only-of-type {\n",
       "        vertical-align: middle;\n",
       "    }\n",
       "\n",
       "    .dataframe tbody tr th {\n",
       "        vertical-align: top;\n",
       "    }\n",
       "\n",
       "    .dataframe thead th {\n",
       "        text-align: right;\n",
       "    }\n",
       "</style>\n",
       "<table border=\"1\" class=\"dataframe\">\n",
       "  <thead>\n",
       "    <tr style=\"text-align: right;\">\n",
       "      <th></th>\n",
       "      <th>v1</th>\n",
       "      <th>v2</th>\n",
       "      <th>Unnamed: 2</th>\n",
       "      <th>Unnamed: 3</th>\n",
       "      <th>Unnamed: 4</th>\n",
       "    </tr>\n",
       "  </thead>\n",
       "  <tbody>\n",
       "    <tr>\n",
       "      <th>0</th>\n",
       "      <td>ham</td>\n",
       "      <td>Go until jurong point, crazy.. Available only ...</td>\n",
       "      <td>NaN</td>\n",
       "      <td>NaN</td>\n",
       "      <td>NaN</td>\n",
       "    </tr>\n",
       "    <tr>\n",
       "      <th>1</th>\n",
       "      <td>ham</td>\n",
       "      <td>Ok lar... Joking wif u oni...</td>\n",
       "      <td>NaN</td>\n",
       "      <td>NaN</td>\n",
       "      <td>NaN</td>\n",
       "    </tr>\n",
       "    <tr>\n",
       "      <th>2</th>\n",
       "      <td>spam</td>\n",
       "      <td>Free entry in 2 a wkly comp to win FA Cup fina...</td>\n",
       "      <td>NaN</td>\n",
       "      <td>NaN</td>\n",
       "      <td>NaN</td>\n",
       "    </tr>\n",
       "    <tr>\n",
       "      <th>3</th>\n",
       "      <td>ham</td>\n",
       "      <td>U dun say so early hor... U c already then say...</td>\n",
       "      <td>NaN</td>\n",
       "      <td>NaN</td>\n",
       "      <td>NaN</td>\n",
       "    </tr>\n",
       "    <tr>\n",
       "      <th>4</th>\n",
       "      <td>ham</td>\n",
       "      <td>Nah I don't think he goes to usf, he lives aro...</td>\n",
       "      <td>NaN</td>\n",
       "      <td>NaN</td>\n",
       "      <td>NaN</td>\n",
       "    </tr>\n",
       "  </tbody>\n",
       "</table>\n",
       "</div>"
      ],
      "text/plain": [
       "     v1                                                 v2 Unnamed: 2  \\\n",
       "0   ham  Go until jurong point, crazy.. Available only ...        NaN   \n",
       "1   ham                      Ok lar... Joking wif u oni...        NaN   \n",
       "2  spam  Free entry in 2 a wkly comp to win FA Cup fina...        NaN   \n",
       "3   ham  U dun say so early hor... U c already then say...        NaN   \n",
       "4   ham  Nah I don't think he goes to usf, he lives aro...        NaN   \n",
       "\n",
       "  Unnamed: 3 Unnamed: 4  \n",
       "0        NaN        NaN  \n",
       "1        NaN        NaN  \n",
       "2        NaN        NaN  \n",
       "3        NaN        NaN  \n",
       "4        NaN        NaN  "
      ]
     },
     "execution_count": 3,
     "metadata": {},
     "output_type": "execute_result"
    }
   ],
   "source": [
    "#view Data\n",
    "data.head()"
   ]
  },
  {
   "cell_type": "code",
   "execution_count": 4,
   "id": "e32b9681",
   "metadata": {},
   "outputs": [
    {
     "data": {
      "text/plain": [
       "(5572, 5)"
      ]
     },
     "execution_count": 4,
     "metadata": {},
     "output_type": "execute_result"
    }
   ],
   "source": [
    "#view Shape of the dataset\n",
    "data.shape"
   ]
  },
  {
   "cell_type": "code",
   "execution_count": 5,
   "id": "e5410543",
   "metadata": {},
   "outputs": [
    {
     "data": {
      "text/plain": [
       "v1               0\n",
       "v2               0\n",
       "Unnamed: 2    5522\n",
       "Unnamed: 3    5560\n",
       "Unnamed: 4    5566\n",
       "dtype: int64"
      ]
     },
     "execution_count": 5,
     "metadata": {},
     "output_type": "execute_result"
    }
   ],
   "source": [
    "#checking if there is any null value in th dataset\n",
    "data.isnull().sum()"
   ]
  },
  {
   "cell_type": "code",
   "execution_count": 6,
   "id": "f02f6dff",
   "metadata": {},
   "outputs": [],
   "source": [
    "#dropping the columns contains only null values\n",
    "data = data.drop(['Unnamed: 2','Unnamed: 3', 'Unnamed: 4'], axis=1)"
   ]
  },
  {
   "cell_type": "code",
   "execution_count": 7,
   "id": "9e0727e1",
   "metadata": {},
   "outputs": [
    {
     "data": {
      "text/html": [
       "<div>\n",
       "<style scoped>\n",
       "    .dataframe tbody tr th:only-of-type {\n",
       "        vertical-align: middle;\n",
       "    }\n",
       "\n",
       "    .dataframe tbody tr th {\n",
       "        vertical-align: top;\n",
       "    }\n",
       "\n",
       "    .dataframe thead th {\n",
       "        text-align: right;\n",
       "    }\n",
       "</style>\n",
       "<table border=\"1\" class=\"dataframe\">\n",
       "  <thead>\n",
       "    <tr style=\"text-align: right;\">\n",
       "      <th></th>\n",
       "      <th>v1</th>\n",
       "      <th>v2</th>\n",
       "    </tr>\n",
       "  </thead>\n",
       "  <tbody>\n",
       "    <tr>\n",
       "      <th>0</th>\n",
       "      <td>ham</td>\n",
       "      <td>Go until jurong point, crazy.. Available only ...</td>\n",
       "    </tr>\n",
       "    <tr>\n",
       "      <th>1</th>\n",
       "      <td>ham</td>\n",
       "      <td>Ok lar... Joking wif u oni...</td>\n",
       "    </tr>\n",
       "    <tr>\n",
       "      <th>2</th>\n",
       "      <td>spam</td>\n",
       "      <td>Free entry in 2 a wkly comp to win FA Cup fina...</td>\n",
       "    </tr>\n",
       "    <tr>\n",
       "      <th>3</th>\n",
       "      <td>ham</td>\n",
       "      <td>U dun say so early hor... U c already then say...</td>\n",
       "    </tr>\n",
       "    <tr>\n",
       "      <th>4</th>\n",
       "      <td>ham</td>\n",
       "      <td>Nah I don't think he goes to usf, he lives aro...</td>\n",
       "    </tr>\n",
       "  </tbody>\n",
       "</table>\n",
       "</div>"
      ],
      "text/plain": [
       "     v1                                                 v2\n",
       "0   ham  Go until jurong point, crazy.. Available only ...\n",
       "1   ham                      Ok lar... Joking wif u oni...\n",
       "2  spam  Free entry in 2 a wkly comp to win FA Cup fina...\n",
       "3   ham  U dun say so early hor... U c already then say...\n",
       "4   ham  Nah I don't think he goes to usf, he lives aro..."
      ]
     },
     "execution_count": 7,
     "metadata": {},
     "output_type": "execute_result"
    }
   ],
   "source": [
    "#view data after dropping unnecesary columns\n",
    "data.head()"
   ]
  },
  {
   "cell_type": "code",
   "execution_count": 8,
   "id": "446b1e7a",
   "metadata": {},
   "outputs": [
    {
     "data": {
      "text/html": [
       "<div>\n",
       "<style scoped>\n",
       "    .dataframe tbody tr th:only-of-type {\n",
       "        vertical-align: middle;\n",
       "    }\n",
       "\n",
       "    .dataframe tbody tr th {\n",
       "        vertical-align: top;\n",
       "    }\n",
       "\n",
       "    .dataframe thead th {\n",
       "        text-align: right;\n",
       "    }\n",
       "</style>\n",
       "<table border=\"1\" class=\"dataframe\">\n",
       "  <thead>\n",
       "    <tr style=\"text-align: right;\">\n",
       "      <th></th>\n",
       "      <th>v1</th>\n",
       "      <th>v2</th>\n",
       "    </tr>\n",
       "  </thead>\n",
       "  <tbody>\n",
       "    <tr>\n",
       "      <th>5567</th>\n",
       "      <td>spam</td>\n",
       "      <td>This is the 2nd time we have tried 2 contact u...</td>\n",
       "    </tr>\n",
       "    <tr>\n",
       "      <th>5568</th>\n",
       "      <td>ham</td>\n",
       "      <td>Will �_ b going to esplanade fr home?</td>\n",
       "    </tr>\n",
       "    <tr>\n",
       "      <th>5569</th>\n",
       "      <td>ham</td>\n",
       "      <td>Pity, * was in mood for that. So...any other s...</td>\n",
       "    </tr>\n",
       "    <tr>\n",
       "      <th>5570</th>\n",
       "      <td>ham</td>\n",
       "      <td>The guy did some bitching but I acted like i'd...</td>\n",
       "    </tr>\n",
       "    <tr>\n",
       "      <th>5571</th>\n",
       "      <td>ham</td>\n",
       "      <td>Rofl. Its true to its name</td>\n",
       "    </tr>\n",
       "  </tbody>\n",
       "</table>\n",
       "</div>"
      ],
      "text/plain": [
       "        v1                                                 v2\n",
       "5567  spam  This is the 2nd time we have tried 2 contact u...\n",
       "5568   ham              Will �_ b going to esplanade fr home?\n",
       "5569   ham  Pity, * was in mood for that. So...any other s...\n",
       "5570   ham  The guy did some bitching but I acted like i'd...\n",
       "5571   ham                         Rofl. Its true to its name"
      ]
     },
     "execution_count": 8,
     "metadata": {},
     "output_type": "execute_result"
    }
   ],
   "source": [
    "#view data\n",
    "data.tail()"
   ]
  },
  {
   "cell_type": "code",
   "execution_count": 9,
   "id": "3e39b7bc",
   "metadata": {},
   "outputs": [
    {
     "data": {
      "text/plain": [
       "409"
      ]
     },
     "execution_count": 9,
     "metadata": {},
     "output_type": "execute_result"
    }
   ],
   "source": [
    "#checking if there is any duplicate value in th dataset\n",
    "data.duplicated().sum()"
   ]
  },
  {
   "cell_type": "code",
   "execution_count": 10,
   "id": "516e01c4",
   "metadata": {},
   "outputs": [],
   "source": [
    "#dropping duplicate values\n",
    "data = data.drop_duplicates()"
   ]
  },
  {
   "cell_type": "code",
   "execution_count": 11,
   "id": "6640c5f4",
   "metadata": {},
   "outputs": [
    {
     "data": {
      "text/plain": [
       "0"
      ]
     },
     "execution_count": 11,
     "metadata": {},
     "output_type": "execute_result"
    }
   ],
   "source": [
    "#rechecking duplicates \n",
    "data.duplicated().sum()"
   ]
  },
  {
   "cell_type": "code",
   "execution_count": 12,
   "id": "755a51aa",
   "metadata": {},
   "outputs": [
    {
     "data": {
      "text/plain": [
       "(5163, 2)"
      ]
     },
     "execution_count": 12,
     "metadata": {},
     "output_type": "execute_result"
    }
   ],
   "source": [
    "#current set of the clean dataset\n",
    "data.shape"
   ]
  },
  {
   "cell_type": "code",
   "execution_count": 13,
   "id": "de9557d1",
   "metadata": {},
   "outputs": [
    {
     "name": "stdout",
     "output_type": "stream",
     "text": [
      "<class 'pandas.core.frame.DataFrame'>\n",
      "Int64Index: 5163 entries, 0 to 5571\n",
      "Data columns (total 2 columns):\n",
      " #   Column  Non-Null Count  Dtype \n",
      "---  ------  --------------  ----- \n",
      " 0   v1      5163 non-null   object\n",
      " 1   v2      5163 non-null   object\n",
      "dtypes: object(2)\n",
      "memory usage: 121.0+ KB\n"
     ]
    }
   ],
   "source": [
    "#checking info\n",
    "data.info()"
   ]
  },
  {
   "cell_type": "code",
   "execution_count": 14,
   "id": "cc55e439",
   "metadata": {},
   "outputs": [
    {
     "data": {
      "text/html": [
       "<div>\n",
       "<style scoped>\n",
       "    .dataframe tbody tr th:only-of-type {\n",
       "        vertical-align: middle;\n",
       "    }\n",
       "\n",
       "    .dataframe tbody tr th {\n",
       "        vertical-align: top;\n",
       "    }\n",
       "\n",
       "    .dataframe thead th {\n",
       "        text-align: right;\n",
       "    }\n",
       "</style>\n",
       "<table border=\"1\" class=\"dataframe\">\n",
       "  <thead>\n",
       "    <tr style=\"text-align: right;\">\n",
       "      <th></th>\n",
       "      <th>count</th>\n",
       "      <th>unique</th>\n",
       "      <th>top</th>\n",
       "      <th>freq</th>\n",
       "    </tr>\n",
       "  </thead>\n",
       "  <tbody>\n",
       "    <tr>\n",
       "      <th>v1</th>\n",
       "      <td>5163</td>\n",
       "      <td>2</td>\n",
       "      <td>ham</td>\n",
       "      <td>4516</td>\n",
       "    </tr>\n",
       "    <tr>\n",
       "      <th>v2</th>\n",
       "      <td>5163</td>\n",
       "      <td>5163</td>\n",
       "      <td>Go until jurong point, crazy.. Available only ...</td>\n",
       "      <td>1</td>\n",
       "    </tr>\n",
       "  </tbody>\n",
       "</table>\n",
       "</div>"
      ],
      "text/plain": [
       "   count unique                                                top  freq\n",
       "v1  5163      2                                                ham  4516\n",
       "v2  5163   5163  Go until jurong point, crazy.. Available only ...     1"
      ]
     },
     "execution_count": 14,
     "metadata": {},
     "output_type": "execute_result"
    }
   ],
   "source": [
    "#describing data\n",
    "data.describe().T"
   ]
  },
  {
   "cell_type": "markdown",
   "id": "d50d0e4a",
   "metadata": {},
   "source": [
    "#### Visualising data"
   ]
  },
  {
   "cell_type": "code",
   "execution_count": 15,
   "id": "3080017c",
   "metadata": {},
   "outputs": [
    {
     "data": {
      "image/png": "[encoded data removed]",
      "text/plain": [
       "<Figure size 432x288 with 1 Axes>"
      ]
     },
     "metadata": {
      "needs_background": "light"
     },
     "output_type": "display_data"
    }
   ],
   "source": [
    "#distribution of Spam and Ham in the dataset\n",
    "colours = ['green', 'red']\n",
    "sns.countplot(data = data ,x = 'v1', palette=colours)\n",
    "plt.xlabel(\"Spam or not\")\n",
    "plt.ylabel(\"Count\")\n",
    "plt.title(\"Spam Count\", fontsize=(18))\n",
    "plt.show()"
   ]
  },
  {
   "cell_type": "markdown",
   "id": "0d82eb77",
   "metadata": {},
   "source": [
    "#### Inference: \n",
    "The visual representation indicates that the dataset predominantly consists of non-spam emails, accounting for approximately 87% of the total."
   ]
  },
  {
   "cell_type": "markdown",
   "id": "a2cd1ced",
   "metadata": {},
   "source": [
    "#### Train-Test Split"
   ]
  },
  {
   "cell_type": "code",
   "execution_count": 16,
   "id": "54749969",
   "metadata": {},
   "outputs": [],
   "source": [
    "#define x\n",
    "x = data['v2']"
   ]
  },
  {
   "cell_type": "code",
   "execution_count": 17,
   "id": "c256b7a7",
   "metadata": {},
   "outputs": [],
   "source": [
    "y = data['v1']"
   ]
  },
  {
   "cell_type": "code",
   "execution_count": 18,
   "id": "7af16fd7",
   "metadata": {},
   "outputs": [
    {
     "data": {
      "text/plain": [
       "0    Go until jurong point, crazy.. Available only ...\n",
       "1                        Ok lar... Joking wif u oni...\n",
       "2    Free entry in 2 a wkly comp to win FA Cup fina...\n",
       "3    U dun say so early hor... U c already then say...\n",
       "4    Nah I don't think he goes to usf, he lives aro...\n",
       "Name: v2, dtype: object"
      ]
     },
     "execution_count": 18,
     "metadata": {},
     "output_type": "execute_result"
    }
   ],
   "source": [
    "x.head()"
   ]
  },
  {
   "cell_type": "code",
   "execution_count": 19,
   "id": "8ad12029",
   "metadata": {},
   "outputs": [
    {
     "data": {
      "text/plain": [
       "0     ham\n",
       "1     ham\n",
       "2    spam\n",
       "3     ham\n",
       "4     ham\n",
       "Name: v1, dtype: object"
      ]
     },
     "execution_count": 19,
     "metadata": {},
     "output_type": "execute_result"
    }
   ],
   "source": [
    "y.head()"
   ]
  },
  {
   "cell_type": "code",
   "execution_count": 20,
   "id": "d263b337",
   "metadata": {},
   "outputs": [],
   "source": [
    "# Split data into training and testing sets\n",
    "x_train, x_test, y_train, y_test = train_test_split(x, y, test_size=0.2, random_state=42)"
   ]
  },
  {
   "cell_type": "code",
   "execution_count": 21,
   "id": "c3765f4d",
   "metadata": {},
   "outputs": [
    {
     "name": "stdout",
     "output_type": "stream",
     "text": [
      "(4130,)\n",
      "(1033,)\n",
      "(4130,)\n",
      "(1033,)\n"
     ]
    }
   ],
   "source": [
    "#shape of train and test data\n",
    "print(x_train.shape)\n",
    "print(x_test.shape)\n",
    "print(y_train.shape)\n",
    "print(y_test.shape)"
   ]
  },
  {
   "cell_type": "code",
   "execution_count": 22,
   "id": "ac76d81f",
   "metadata": {},
   "outputs": [],
   "source": [
    "# Feature extraction using Count Vectorization\n",
    "vectorizer = CountVectorizer()\n",
    "x_train_vectorized = vectorizer.fit_transform(x_train)\n",
    "x_test_vectorized = vectorizer.transform(x_test)"
   ]
  },
  {
   "cell_type": "code",
   "execution_count": 23,
   "id": "6b42b0ce",
   "metadata": {},
   "outputs": [
    {
     "data": {
      "text/plain": [
       "<4130x7656 sparse matrix of type '<class 'numpy.int64'>'\n",
       "\twith 54317 stored elements in Compressed Sparse Row format>"
      ]
     },
     "execution_count": 23,
     "metadata": {},
     "output_type": "execute_result"
    }
   ],
   "source": [
    "x_train_vectorized"
   ]
  },
  {
   "cell_type": "code",
   "execution_count": 24,
   "id": "cf99fb76",
   "metadata": {},
   "outputs": [
    {
     "data": {
      "text/plain": [
       "<1033x7656 sparse matrix of type '<class 'numpy.int64'>'\n",
       "\twith 12361 stored elements in Compressed Sparse Row format>"
      ]
     },
     "execution_count": 24,
     "metadata": {},
     "output_type": "execute_result"
    }
   ],
   "source": [
    "x_test_vectorized"
   ]
  },
  {
   "cell_type": "code",
   "execution_count": 25,
   "id": "6a93adf0",
   "metadata": {},
   "outputs": [
    {
     "data": {
      "image/png": "[encoded data removed]",
      "text/plain": [
       "<Figure size 432x288 with 1 Axes>"
      ]
     },
     "metadata": {
      "needs_background": "light"
     },
     "output_type": "display_data"
    }
   ],
   "source": [
    "#check balance of target value\n",
    "sns.countplot(x = y_train, palette= colours)\n",
    "plt.title(\"Spam Count\", fontsize=(18))\n",
    "plt.show()"
   ]
  },
  {
   "cell_type": "markdown",
   "id": "db5e43cc",
   "metadata": {},
   "source": [
    "#### Balance the Data\n",
    "The dataset appears to be imbalanced, suggesting the need to address this imbalance using the over-sampling method to achieve a balanced distribution."
   ]
  },
  {
   "cell_type": "code",
   "execution_count": 26,
   "id": "dd1212a4",
   "metadata": {},
   "outputs": [],
   "source": [
    "#importing library\n",
    "from imblearn.over_sampling import RandomOverSampler\n",
    "\n",
    "# defining and fitting data\n",
    "ros = RandomOverSampler(random_state = 0)\n",
    "x_train1, y_train1 = ros.fit_resample(x_train_vectorized,y_train)"
   ]
  },
  {
   "cell_type": "code",
   "execution_count": 27,
   "id": "71cc664a",
   "metadata": {},
   "outputs": [
    {
     "data": {
      "image/png": "[encoded data removed]",
      "text/plain": [
       "<Figure size 432x288 with 1 Axes>"
      ]
     },
     "metadata": {
      "needs_background": "light"
     },
     "output_type": "display_data"
    }
   ],
   "source": [
    "#plotting balanced datset\n",
    "sns.countplot(x = y_train1, palette= colours)\n",
    "plt.title(\"Balanced Spam Count\", fontsize= (18))\n",
    "plt.show()"
   ]
  },
  {
   "cell_type": "markdown",
   "id": "8cdfab3e",
   "metadata": {},
   "source": [
    "The dataset has been balanced using the over-sampling method."
   ]
  },
  {
   "cell_type": "markdown",
   "id": "724c1aa1",
   "metadata": {},
   "source": [
    "### Building Model to predict"
   ]
  },
  {
   "cell_type": "markdown",
   "id": "1fa2979b",
   "metadata": {},
   "source": [
    "#### Classification Using Naive Bayes Classifier"
   ]
  },
  {
   "cell_type": "code",
   "execution_count": 28,
   "id": "d51d92b0",
   "metadata": {},
   "outputs": [
    {
     "data": {
      "text/plain": [
       "MultinomialNB()"
      ]
     },
     "execution_count": 28,
     "metadata": {},
     "output_type": "execute_result"
    }
   ],
   "source": [
    "# Build and train the model\n",
    "naive_bayes_model = MultinomialNB()\n",
    "naive_bayes_model.fit(x_train1, y_train1)"
   ]
  },
  {
   "cell_type": "code",
   "execution_count": 29,
   "id": "4ee09fbd",
   "metadata": {},
   "outputs": [],
   "source": [
    "# Predict on test data\n",
    "y_pred_nb = naive_bayes_model.predict(x_test_vectorized)"
   ]
  },
  {
   "cell_type": "code",
   "execution_count": 30,
   "id": "bcfa1845",
   "metadata": {},
   "outputs": [
    {
     "name": "stdout",
     "output_type": "stream",
     "text": [
      "Confusio Matrix:\n",
      " [[897  20]\n",
      " [ 14 102]]\n",
      "Classification Report:\n",
      "               precision    recall  f1-score   support\n",
      "\n",
      "         ham       0.98      0.98      0.98       917\n",
      "        spam       0.84      0.88      0.86       116\n",
      "\n",
      "    accuracy                           0.97      1033\n",
      "   macro avg       0.91      0.93      0.92      1033\n",
      "weighted avg       0.97      0.97      0.97      1033\n",
      "\n",
      "Accuracy Score: 0.9670861568247822\n"
     ]
    }
   ],
   "source": [
    "# Evaluate the model\n",
    "print(f'Confusio Matrix:\\n {confusion_matrix(y_test, y_pred_nb)}')\n",
    "print(f'Classification Report:\\n {classification_report(y_test, y_pred_nb)}')\n",
    "print(f'Accuracy Score: {accuracy_score(y_pred_nb,y_test)}')"
   ]
  },
  {
   "cell_type": "markdown",
   "id": "e2cf3158",
   "metadata": {},
   "source": [
    "#### Clasification using Logistic Regression"
   ]
  },
  {
   "cell_type": "code",
   "execution_count": 31,
   "id": "b91df79a",
   "metadata": {},
   "outputs": [
    {
     "data": {
      "text/plain": [
       "LogisticRegression()"
      ]
     },
     "execution_count": 31,
     "metadata": {},
     "output_type": "execute_result"
    }
   ],
   "source": [
    "# Build and train the model\n",
    "lr_model = LogisticRegression()\n",
    "lr_model.fit(x_train1, y_train1)"
   ]
  },
  {
   "cell_type": "code",
   "execution_count": 32,
   "id": "5877162b",
   "metadata": {},
   "outputs": [],
   "source": [
    "# Predict on test data\n",
    "y_pred_lr = lr_model.predict(x_test_vectorized)"
   ]
  },
  {
   "cell_type": "code",
   "execution_count": 33,
   "id": "1a58ec57",
   "metadata": {},
   "outputs": [
    {
     "name": "stdout",
     "output_type": "stream",
     "text": [
      "Confusio Matrix:\n",
      " [[913   4]\n",
      " [ 13 103]]\n",
      "Classification Report:\n",
      "               precision    recall  f1-score   support\n",
      "\n",
      "         ham       0.99      1.00      0.99       917\n",
      "        spam       0.96      0.89      0.92       116\n",
      "\n",
      "    accuracy                           0.98      1033\n",
      "   macro avg       0.97      0.94      0.96      1033\n",
      "weighted avg       0.98      0.98      0.98      1033\n",
      "\n",
      "Accuracy Score: 0.9835430784123911\n"
     ]
    }
   ],
   "source": [
    "# Evaluate the model\n",
    "print(f'Confusio Matrix:\\n {confusion_matrix(y_test, y_pred_lr)}')\n",
    "print(f'Classification Report:\\n {classification_report(y_test, y_pred_lr)}')\n",
    "print(f'Accuracy Score: {accuracy_score(y_test,y_pred_lr)}')"
   ]
  },
  {
   "cell_type": "markdown",
   "id": "18e804d9",
   "metadata": {},
   "source": [
    "#### Clasification using Support Vector Classifier"
   ]
  },
  {
   "cell_type": "code",
   "execution_count": 34,
   "id": "ab7f1d53",
   "metadata": {},
   "outputs": [
    {
     "data": {
      "text/plain": [
       "SVC()"
      ]
     },
     "execution_count": 34,
     "metadata": {},
     "output_type": "execute_result"
    }
   ],
   "source": [
    "# Build and train the model\n",
    "svc_model = SVC()\n",
    "svc_model.fit(x_train1, y_train1)"
   ]
  },
  {
   "cell_type": "code",
   "execution_count": 35,
   "id": "26d1557f",
   "metadata": {},
   "outputs": [],
   "source": [
    "# Predict on test data\n",
    "y_pred_svc = svc_model.predict(x_test_vectorized)"
   ]
  },
  {
   "cell_type": "code",
   "execution_count": 36,
   "id": "3985986f",
   "metadata": {},
   "outputs": [
    {
     "name": "stdout",
     "output_type": "stream",
     "text": [
      "Confusio Matrix:\n",
      " [[916   1]\n",
      " [ 18  98]]\n",
      "Classification Report:\n",
      "               precision    recall  f1-score   support\n",
      "\n",
      "         ham       0.98      1.00      0.99       917\n",
      "        spam       0.99      0.84      0.91       116\n",
      "\n",
      "    accuracy                           0.98      1033\n",
      "   macro avg       0.99      0.92      0.95      1033\n",
      "weighted avg       0.98      0.98      0.98      1033\n",
      "\n",
      "Accuracy Score: 0.9816069699903195\n"
     ]
    }
   ],
   "source": [
    "# Evaluate the model\n",
    "print(f'Confusio Matrix:\\n {confusion_matrix(y_test, y_pred_svc)}')\n",
    "print(f'Classification Report:\\n {classification_report(y_test, y_pred_svc)}')\n",
    "print(f'Accuracy Score: {accuracy_score(y_test,y_pred_svc)}')"
   ]
  },
  {
   "cell_type": "markdown",
   "id": "a1df42db",
   "metadata": {},
   "source": [
    "#### Clasification using Random Forest Classifier"
   ]
  },
  {
   "cell_type": "code",
   "execution_count": 37,
   "id": "83278ea9",
   "metadata": {},
   "outputs": [
    {
     "data": {
      "text/plain": [
       "RandomForestClassifier()"
      ]
     },
     "execution_count": 37,
     "metadata": {},
     "output_type": "execute_result"
    }
   ],
   "source": [
    "# Build and train the model\n",
    "rf_model = RandomForestClassifier()\n",
    "rf_model.fit(x_train1, y_train1)"
   ]
  },
  {
   "cell_type": "code",
   "execution_count": 38,
   "id": "8c3337b0",
   "metadata": {},
   "outputs": [],
   "source": [
    "# Predict on test data\n",
    "y_pred_rf = rf_model.predict(x_test_vectorized)"
   ]
  },
  {
   "cell_type": "code",
   "execution_count": 39,
   "id": "bbac8aab",
   "metadata": {},
   "outputs": [
    {
     "name": "stdout",
     "output_type": "stream",
     "text": [
      "Confusio Matrix:\n",
      " [[917   0]\n",
      " [ 24  92]]\n",
      "Classification Report:\n",
      "               precision    recall  f1-score   support\n",
      "\n",
      "         ham       0.97      1.00      0.99       917\n",
      "        spam       1.00      0.79      0.88       116\n",
      "\n",
      "    accuracy                           0.98      1033\n",
      "   macro avg       0.99      0.90      0.94      1033\n",
      "weighted avg       0.98      0.98      0.98      1033\n",
      "\n",
      "Accuracy Score: 0.9767666989351403\n"
     ]
    }
   ],
   "source": [
    "# Evaluate the model\n",
    "print(f'Confusio Matrix:\\n {confusion_matrix(y_test, y_pred_rf)}')\n",
    "print(f'Classification Report:\\n {classification_report(y_test, y_pred_rf)}')\n",
    "print(f'Accuracy Score: {accuracy_score(y_test,y_pred_rf)}')"
   ]
  },
  {
   "cell_type": "markdown",
   "id": "3bf6c022",
   "metadata": {},
   "source": [
    "#### Clasification using Decision Tree Classifier"
   ]
  },
  {
   "cell_type": "code",
   "execution_count": 40,
   "id": "cd76fe44",
   "metadata": {},
   "outputs": [
    {
     "data": {
      "text/plain": [
       "DecisionTreeClassifier()"
      ]
     },
     "execution_count": 40,
     "metadata": {},
     "output_type": "execute_result"
    }
   ],
   "source": [
    "# Build and train the model\n",
    "dt_model = DecisionTreeClassifier()\n",
    "dt_model.fit(x_train1, y_train1)"
   ]
  },
  {
   "cell_type": "code",
   "execution_count": 41,
   "id": "10baf3c6",
   "metadata": {},
   "outputs": [],
   "source": [
    "# Predict on test data\n",
    "y_pred_dt = dt_model.predict(x_test_vectorized)"
   ]
  },
  {
   "cell_type": "code",
   "execution_count": 42,
   "id": "68adfa20",
   "metadata": {},
   "outputs": [
    {
     "name": "stdout",
     "output_type": "stream",
     "text": [
      "Confusio Matrix:\n",
      " [[887  30]\n",
      " [ 26  90]]\n",
      "Classification Report:\n",
      "               precision    recall  f1-score   support\n",
      "\n",
      "         ham       0.97      0.97      0.97       917\n",
      "        spam       0.75      0.78      0.76       116\n",
      "\n",
      "    accuracy                           0.95      1033\n",
      "   macro avg       0.86      0.87      0.87      1033\n",
      "weighted avg       0.95      0.95      0.95      1033\n",
      "\n",
      "Accuracy Score: 0.9457889641819942\n"
     ]
    }
   ],
   "source": [
    "# Evaluate the model\n",
    "print(f'Confusio Matrix:\\n {confusion_matrix(y_test, y_pred_dt)}')\n",
    "print(f'Classification Report:\\n {classification_report(y_test, y_pred_dt)}')\n",
    "print(f'Accuracy Score: {accuracy_score(y_test,y_pred_dt)}')"
   ]
  },
  {
   "cell_type": "markdown",
   "id": "bfbe5f5b",
   "metadata": {},
   "source": [
    "#### Printing Result of all Models"
   ]
  },
  {
   "cell_type": "code",
   "execution_count": 43,
   "id": "2fc1bc44",
   "metadata": {},
   "outputs": [
    {
     "data": {
      "text/html": [
       "<div>\n",
       "<style scoped>\n",
       "    .dataframe tbody tr th:only-of-type {\n",
       "        vertical-align: middle;\n",
       "    }\n",
       "\n",
       "    .dataframe tbody tr th {\n",
       "        vertical-align: top;\n",
       "    }\n",
       "\n",
       "    .dataframe thead th {\n",
       "        text-align: right;\n",
       "    }\n",
       "</style>\n",
       "<table border=\"1\" class=\"dataframe\">\n",
       "  <thead>\n",
       "    <tr style=\"text-align: right;\">\n",
       "      <th></th>\n",
       "      <th>Model</th>\n",
       "      <th>Accuracy</th>\n",
       "    </tr>\n",
       "  </thead>\n",
       "  <tbody>\n",
       "    <tr>\n",
       "      <th>0</th>\n",
       "      <td>Multinomial Naive Bayes Classifier</td>\n",
       "      <td>0.967086</td>\n",
       "    </tr>\n",
       "    <tr>\n",
       "      <th>1</th>\n",
       "      <td>Logistic Regression Classifier</td>\n",
       "      <td>0.983543</td>\n",
       "    </tr>\n",
       "    <tr>\n",
       "      <th>2</th>\n",
       "      <td>Support Vector Classifier</td>\n",
       "      <td>0.981607</td>\n",
       "    </tr>\n",
       "    <tr>\n",
       "      <th>3</th>\n",
       "      <td>Random Forest Classifier</td>\n",
       "      <td>0.976767</td>\n",
       "    </tr>\n",
       "    <tr>\n",
       "      <th>4</th>\n",
       "      <td>Decission Tree Classifier</td>\n",
       "      <td>0.945789</td>\n",
       "    </tr>\n",
       "  </tbody>\n",
       "</table>\n",
       "</div>"
      ],
      "text/plain": [
       "                                Model  Accuracy\n",
       "0  Multinomial Naive Bayes Classifier  0.967086\n",
       "1      Logistic Regression Classifier  0.983543\n",
       "2           Support Vector Classifier  0.981607\n",
       "3            Random Forest Classifier  0.976767\n",
       "4           Decission Tree Classifier  0.945789"
      ]
     },
     "execution_count": 43,
     "metadata": {},
     "output_type": "execute_result"
    }
   ],
   "source": [
    "#makig lists of model names and accuracy scores\n",
    "model_names = ['Multinomial Naive Bayes Classifier', 'Logistic Regression Classifier', 'Support Vector Classifier',\n",
    "              'Random Forest Classifier', 'Decission Tree Classifier']\n",
    "accuracy_scores = [accuracy_score(y_test,y_pred_nb),accuracy_score(y_test,y_pred_lr),accuracy_score(y_test,y_pred_svc),\n",
    "                  accuracy_score(y_test,y_pred_rf),accuracy_score(y_test,y_pred_dt)]\n",
    "\n",
    "#storing result into dataframe\n",
    "result = pd.DataFrame({'Model': model_names,\n",
    "                      'Accuracy': accuracy_scores})\n",
    "\n",
    "#View Result\n",
    "result"
   ]
  },
  {
   "cell_type": "markdown",
   "id": "e6e8899a",
   "metadata": {},
   "source": [
    "#### Inference:\n",
    "After evaluating various classifiers, it's evident that the Logistic Regression Classifier achieves the highest accuracy of 98.35%, closely followed by the Support Vector Classifier with an accuracy of 98.16%. The Random Forest Classifier and Multinomial Naive Bayes Classifier also exhibit strong performance, achieving accuracies of 97.68% and 96.71% respectively. The Decision Tree Classifier shows a respectable accuracy of 94.39%. These results highlight the effectiveness of these models in accurately predicting the dataset's classes."
   ]
  },
  {
   "cell_type": "markdown",
   "id": "78609060",
   "metadata": {},
   "source": [
    "#### Defining a Function to Check Spam"
   ]
  },
  {
   "cell_type": "code",
   "execution_count": 44,
   "id": "30d87b63",
   "metadata": {},
   "outputs": [],
   "source": [
    "#Defining a function to check the mail is spam or not\n",
    "def checkingSpam(message):\n",
    "    transform_message = vectorizer.transform(message)\n",
    "    prediction = lr_model.predict(transform_message)\n",
    "    if prediction[0]== 'spam':\n",
    "        print(\"This is a Spam Mail\")\n",
    "    else:\n",
    "        print(\"This mail is non-Spam\")"
   ]
  },
  {
   "cell_type": "code",
   "execution_count": 45,
   "id": "4fb1b8c9",
   "metadata": {},
   "outputs": [],
   "source": [
    "sample1 = [\"Congratulations! You've won a free vacation to an exotic island. Click the link below to claim your prize now!\"]"
   ]
  },
  {
   "cell_type": "code",
   "execution_count": 46,
   "id": "1595fbe6",
   "metadata": {},
   "outputs": [
    {
     "name": "stdout",
     "output_type": "stream",
     "text": [
      "This is a Spam Mail\n"
     ]
    }
   ],
   "source": [
    "#checking result\n",
    "checkingSpam(sample1)"
   ]
  },
  {
   "cell_type": "code",
   "execution_count": 47,
   "id": "fd0629c4",
   "metadata": {},
   "outputs": [],
   "source": [
    "sample2 = ['''Hello Sayanti,\n",
    "\n",
    "I hope this email finds you well. Just wanted to check in and see how you're doing. \n",
    "We're planning a team meeting next week to discuss our upcoming project. \n",
    "Please let me know your availability.\n",
    "Looking forward to hearing from you.\n",
    "\n",
    "Best regards,\n",
    "Team XYZ''']"
   ]
  },
  {
   "cell_type": "code",
   "execution_count": 48,
   "id": "27192021",
   "metadata": {},
   "outputs": [
    {
     "name": "stdout",
     "output_type": "stream",
     "text": [
      "This mail is non-Spam\n"
     ]
    }
   ],
   "source": [
    "#checking Result\n",
    "checkingSpam(sample2)"
   ]
  },
  {
   "cell_type": "raw",
   "id": "f8478dbd",
   "metadata": {},
   "source": [
    "------------------------------------------------------ END --------------------------------------------------------------------"
   ]
  }
 ],
 "metadata": {
  "kernelspec": {
   "display_name": "Python 3 (ipykernel)",
   "language": "python",
   "name": "python3"
  },
  "language_info": {
   "codemirror_mode": {
    "name": "ipython",
    "version": 3
   },
   "file_extension": ".py",
   "mimetype": "text/x-python",
   "name": "python",
   "nbconvert_exporter": "python",
   "pygments_lexer": "ipython3",
   "version": "3.9.12"
  }
 },
 "nbformat": 4,
 "nbformat_minor": 5
}
